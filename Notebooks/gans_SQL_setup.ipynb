{
 "cells": [
  {
   "cell_type": "code",
   "execution_count": 1,
   "id": "fbb0cab4-a932-4894-b676-071b62a65361",
   "metadata": {},
   "outputs": [],
   "source": [
    "import pandas as pd\n",
    "import pymysql\n",
    "import sqlalchemy\n",
    "import os\n",
    "#from dotenv import load_dotenv"
   ]
  },
  {
   "cell_type": "code",
   "execution_count": 4,
   "id": "f6767c58-838b-4c29-8c78-6f8614cc071b",
   "metadata": {},
   "outputs": [],
   "source": [
    "city_df = pd.read_csv(r\"C:\\Users\\René\\Desktop\\WBS-Project 3\\Data_Engineering_Pipelines\\Data\\city_data.csv\")\n",
    "weather_df = pd.read_csv(r\"C:\\Users\\René\\Desktop\\WBS-Project 3\\Data_Engineering_Pipelines\\Data\\weather_data.csv\")\n",
    "airport_df = pd.read_csv(r\"C:\\Users\\René\\Desktop\\WBS-Project 3\\Data_Engineering_Pipelines\\Data\\airport_data.csv\")\n",
    "flight_df = pd.read_csv(r\"C:\\Users\\René\\Desktop\\WBS-Project 3\\Data_Engineering_Pipelines\\Data\\flight_data.csv\")"
   ]
  },
  {
   "cell_type": "code",
   "execution_count": 5,
   "id": "4ce28004-f692-488e-8f96-410487e7a233",
   "metadata": {},
   "outputs": [
    {
     "data": {
      "text/html": [
       "<div>\n",
       "<style scoped>\n",
       "    .dataframe tbody tr th:only-of-type {\n",
       "        vertical-align: middle;\n",
       "    }\n",
       "\n",
       "    .dataframe tbody tr th {\n",
       "        vertical-align: top;\n",
       "    }\n",
       "\n",
       "    .dataframe thead th {\n",
       "        text-align: right;\n",
       "    }\n",
       "</style>\n",
       "<table border=\"1\" class=\"dataframe\">\n",
       "  <thead>\n",
       "    <tr style=\"text-align: right;\">\n",
       "      <th></th>\n",
       "      <th>Unnamed: 0</th>\n",
       "      <th>city_id</th>\n",
       "      <th>city</th>\n",
       "      <th>country</th>\n",
       "      <th>country_code</th>\n",
       "      <th>region</th>\n",
       "      <th>elevation</th>\n",
       "      <th>city_latitude</th>\n",
       "      <th>city_longitude</th>\n",
       "      <th>population</th>\n",
       "    </tr>\n",
       "  </thead>\n",
       "  <tbody>\n",
       "    <tr>\n",
       "      <th>0</th>\n",
       "      <td>0</td>\n",
       "      <td>Q64</td>\n",
       "      <td>Berlin</td>\n",
       "      <td>Germany</td>\n",
       "      <td>DE</td>\n",
       "      <td>Berlin</td>\n",
       "      <td>NaN</td>\n",
       "      <td>52.516667</td>\n",
       "      <td>13.383333</td>\n",
       "      <td>3664088</td>\n",
       "    </tr>\n",
       "    <tr>\n",
       "      <th>1</th>\n",
       "      <td>1</td>\n",
       "      <td>Q1055</td>\n",
       "      <td>Hamburg</td>\n",
       "      <td>Germany</td>\n",
       "      <td>DE</td>\n",
       "      <td>Hamburg</td>\n",
       "      <td>NaN</td>\n",
       "      <td>53.550000</td>\n",
       "      <td>10.000000</td>\n",
       "      <td>1852478</td>\n",
       "    </tr>\n",
       "    <tr>\n",
       "      <th>2</th>\n",
       "      <td>2</td>\n",
       "      <td>Q1726</td>\n",
       "      <td>Munich</td>\n",
       "      <td>Germany</td>\n",
       "      <td>DE</td>\n",
       "      <td>Bavaria</td>\n",
       "      <td>519.0</td>\n",
       "      <td>48.134520</td>\n",
       "      <td>11.571000</td>\n",
       "      <td>1488202</td>\n",
       "    </tr>\n",
       "    <tr>\n",
       "      <th>3</th>\n",
       "      <td>3</td>\n",
       "      <td>Q365</td>\n",
       "      <td>Cologne</td>\n",
       "      <td>Germany</td>\n",
       "      <td>DE</td>\n",
       "      <td>North Rhine-Westphalia</td>\n",
       "      <td>52.0</td>\n",
       "      <td>50.942222</td>\n",
       "      <td>6.957778</td>\n",
       "      <td>1083498</td>\n",
       "    </tr>\n",
       "    <tr>\n",
       "      <th>4</th>\n",
       "      <td>4</td>\n",
       "      <td>Q1794</td>\n",
       "      <td>Frankfurt am Main</td>\n",
       "      <td>Germany</td>\n",
       "      <td>DE</td>\n",
       "      <td>Hesse</td>\n",
       "      <td>112.0</td>\n",
       "      <td>50.113611</td>\n",
       "      <td>8.679722</td>\n",
       "      <td>764104</td>\n",
       "    </tr>\n",
       "  </tbody>\n",
       "</table>\n",
       "</div>"
      ],
      "text/plain": [
       "   Unnamed: 0 city_id               city  country country_code  \\\n",
       "0           0     Q64             Berlin  Germany           DE   \n",
       "1           1   Q1055            Hamburg  Germany           DE   \n",
       "2           2   Q1726             Munich  Germany           DE   \n",
       "3           3    Q365            Cologne  Germany           DE   \n",
       "4           4   Q1794  Frankfurt am Main  Germany           DE   \n",
       "\n",
       "                   region  elevation  city_latitude  city_longitude  \\\n",
       "0                  Berlin        NaN      52.516667       13.383333   \n",
       "1                 Hamburg        NaN      53.550000       10.000000   \n",
       "2                 Bavaria      519.0      48.134520       11.571000   \n",
       "3  North Rhine-Westphalia       52.0      50.942222        6.957778   \n",
       "4                   Hesse      112.0      50.113611        8.679722   \n",
       "\n",
       "   population  \n",
       "0     3664088  \n",
       "1     1852478  \n",
       "2     1488202  \n",
       "3     1083498  \n",
       "4      764104  "
      ]
     },
     "execution_count": 5,
     "metadata": {},
     "output_type": "execute_result"
    }
   ],
   "source": [
    "city_df.head()"
   ]
  },
  {
   "cell_type": "code",
   "execution_count": 6,
   "id": "d14d4a83-3d0b-4ae1-a545-a6312404281a",
   "metadata": {},
   "outputs": [],
   "source": [
    "city_df.drop(columns = [\"Unnamed: 0\"], inplace = True)\n",
    "weather_df.drop(columns = [\"Unnamed: 0\"], inplace = True)\n",
    "airport_df.drop(columns = [\"Unnamed: 0\"], inplace = True)\n",
    "flight_df.drop(columns = [\"Unnamed: 0\"], inplace = True)"
   ]
  },
  {
   "cell_type": "code",
   "execution_count": 7,
   "id": "77473c39-953b-419b-a529-43fd7eca0ecb",
   "metadata": {},
   "outputs": [
    {
     "data": {
      "text/html": [
       "<div>\n",
       "<style scoped>\n",
       "    .dataframe tbody tr th:only-of-type {\n",
       "        vertical-align: middle;\n",
       "    }\n",
       "\n",
       "    .dataframe tbody tr th {\n",
       "        vertical-align: top;\n",
       "    }\n",
       "\n",
       "    .dataframe thead th {\n",
       "        text-align: right;\n",
       "    }\n",
       "</style>\n",
       "<table border=\"1\" class=\"dataframe\">\n",
       "  <thead>\n",
       "    <tr style=\"text-align: right;\">\n",
       "      <th></th>\n",
       "      <th>city_id</th>\n",
       "      <th>city</th>\n",
       "      <th>country</th>\n",
       "      <th>country_code</th>\n",
       "      <th>region</th>\n",
       "      <th>elevation</th>\n",
       "      <th>city_latitude</th>\n",
       "      <th>city_longitude</th>\n",
       "      <th>population</th>\n",
       "    </tr>\n",
       "  </thead>\n",
       "  <tbody>\n",
       "    <tr>\n",
       "      <th>0</th>\n",
       "      <td>Q64</td>\n",
       "      <td>Berlin</td>\n",
       "      <td>Germany</td>\n",
       "      <td>DE</td>\n",
       "      <td>Berlin</td>\n",
       "      <td>NaN</td>\n",
       "      <td>52.516667</td>\n",
       "      <td>13.383333</td>\n",
       "      <td>3664088</td>\n",
       "    </tr>\n",
       "    <tr>\n",
       "      <th>1</th>\n",
       "      <td>Q1055</td>\n",
       "      <td>Hamburg</td>\n",
       "      <td>Germany</td>\n",
       "      <td>DE</td>\n",
       "      <td>Hamburg</td>\n",
       "      <td>NaN</td>\n",
       "      <td>53.550000</td>\n",
       "      <td>10.000000</td>\n",
       "      <td>1852478</td>\n",
       "    </tr>\n",
       "    <tr>\n",
       "      <th>2</th>\n",
       "      <td>Q1726</td>\n",
       "      <td>Munich</td>\n",
       "      <td>Germany</td>\n",
       "      <td>DE</td>\n",
       "      <td>Bavaria</td>\n",
       "      <td>519.0</td>\n",
       "      <td>48.134520</td>\n",
       "      <td>11.571000</td>\n",
       "      <td>1488202</td>\n",
       "    </tr>\n",
       "    <tr>\n",
       "      <th>3</th>\n",
       "      <td>Q365</td>\n",
       "      <td>Cologne</td>\n",
       "      <td>Germany</td>\n",
       "      <td>DE</td>\n",
       "      <td>North Rhine-Westphalia</td>\n",
       "      <td>52.0</td>\n",
       "      <td>50.942222</td>\n",
       "      <td>6.957778</td>\n",
       "      <td>1083498</td>\n",
       "    </tr>\n",
       "    <tr>\n",
       "      <th>4</th>\n",
       "      <td>Q1794</td>\n",
       "      <td>Frankfurt am Main</td>\n",
       "      <td>Germany</td>\n",
       "      <td>DE</td>\n",
       "      <td>Hesse</td>\n",
       "      <td>112.0</td>\n",
       "      <td>50.113611</td>\n",
       "      <td>8.679722</td>\n",
       "      <td>764104</td>\n",
       "    </tr>\n",
       "  </tbody>\n",
       "</table>\n",
       "</div>"
      ],
      "text/plain": [
       "  city_id               city  country country_code                  region  \\\n",
       "0     Q64             Berlin  Germany           DE                  Berlin   \n",
       "1   Q1055            Hamburg  Germany           DE                 Hamburg   \n",
       "2   Q1726             Munich  Germany           DE                 Bavaria   \n",
       "3    Q365            Cologne  Germany           DE  North Rhine-Westphalia   \n",
       "4   Q1794  Frankfurt am Main  Germany           DE                   Hesse   \n",
       "\n",
       "   elevation  city_latitude  city_longitude  population  \n",
       "0        NaN      52.516667       13.383333     3664088  \n",
       "1        NaN      53.550000       10.000000     1852478  \n",
       "2      519.0      48.134520       11.571000     1488202  \n",
       "3       52.0      50.942222        6.957778     1083498  \n",
       "4      112.0      50.113611        8.679722      764104  "
      ]
     },
     "execution_count": 7,
     "metadata": {},
     "output_type": "execute_result"
    }
   ],
   "source": [
    "city_df.head()"
   ]
  },
  {
   "cell_type": "code",
   "execution_count": 8,
   "id": "b56cbd69-a181-4579-9efc-2c42d521869d",
   "metadata": {},
   "outputs": [],
   "source": [
    "schema = \"gans\"\n",
    "host = \n",
    "user = \n",
    "password =\n",
    "port = 3306\n",
    "con = f\"mysql+pymysql://{user}:{password}@{host}:{port}/{schema}\""
   ]
  },
  {
   "cell_type": "code",
   "execution_count": 9,
   "id": "4a2c9d28-0093-4be8-82e3-613644c44ee7",
   "metadata": {},
   "outputs": [
    {
     "data": {
      "text/plain": [
       "15"
      ]
     },
     "execution_count": 9,
     "metadata": {},
     "output_type": "execute_result"
    }
   ],
   "source": [
    "city_df.to_sql(\"cities\", if_exists = \"append\", con = con, index = False)"
   ]
  },
  {
   "cell_type": "code",
   "execution_count": 13,
   "id": "2c2be99e-a16d-4ea0-9f23-0918a160605a",
   "metadata": {},
   "outputs": [
    {
     "data": {
      "text/plain": [
       "600"
      ]
     },
     "execution_count": 13,
     "metadata": {},
     "output_type": "execute_result"
    }
   ],
   "source": [
    "weather_df.to_sql(\"weathers\", if_exists = \"append\", con = con, index = False)"
   ]
  },
  {
   "cell_type": "code",
   "execution_count": 11,
   "id": "e86d82d0-57d0-470e-8dd0-3fb6da15385a",
   "metadata": {},
   "outputs": [
    {
     "data": {
      "text/plain": [
       "15"
      ]
     },
     "execution_count": 11,
     "metadata": {},
     "output_type": "execute_result"
    }
   ],
   "source": [
    "airport_df.to_sql(\"airports\", if_exists = \"append\", con = con, index = False)"
   ]
  },
  {
   "cell_type": "code",
   "execution_count": 12,
   "id": "342a6f93-01e8-451c-a534-641a15c74ad2",
   "metadata": {},
   "outputs": [
    {
     "data": {
      "text/plain": [
       "2451"
      ]
     },
     "execution_count": 12,
     "metadata": {},
     "output_type": "execute_result"
    }
   ],
   "source": [
    "flight_df.to_sql(\"flights\", if_exists = \"append\", con = con, index = False)"
   ]
  }
 ],
 "metadata": {
  "kernelspec": {
   "display_name": "Python 3.10.3 64-bit",
   "language": "python",
   "name": "python3"
  },
  "language_info": {
   "codemirror_mode": {
    "name": "ipython",
    "version": 3
   },
   "file_extension": ".py",
   "mimetype": "text/x-python",
   "name": "python",
   "nbconvert_exporter": "python",
   "pygments_lexer": "ipython3",
   "version": "3.10.3"
  },
  "vscode": {
   "interpreter": {
    "hash": "f2b387e4c6434662bd8adb5f6c0f4c64574fcf2f73d95621a46f7051535d5a9a"
   }
  }
 },
 "nbformat": 4,
 "nbformat_minor": 5
}
